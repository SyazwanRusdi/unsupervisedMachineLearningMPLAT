{
 "cells": [
  {
   "cell_type": "code",
   "execution_count": 7,
   "id": "87147a97",
   "metadata": {},
   "outputs": [],
   "source": [
    "import pandas as pd \n",
    "import numpy as np \n",
    "import matplotlib.pyplot as plt \n",
    "import seaborn as sns \n",
    "import time \n",
    "from sklearn.model_selection import train_test_split \n",
    "from sklearn.metrics import accuracy_score, confusion_matrix, precision_recall_fscore_support \n",
    "%matplotlib inline\n",
    "from IPython.display import display\n",
    "from six import StringIO\n",
    "from matplotlib import pyplot as plt\n",
    "from matplotlib.lines import Line2D\n",
    "\n",
    "from scipy.stats import pearsonr\n",
    "from sklearn.utils import resample\n",
    "\n",
    "from sklearn.cluster import KMeans \n",
    "from sklearn import metrics\n",
    "from sklearn.metrics import pairwise_distances\n",
    "from sklearn.metrics.pairwise import euclidean_distances\n",
    "from sklearn.metrics import davies_bouldin_score\n",
    "\n",
    "from scipy.cluster.hierarchy import dendrogram, linkage\n",
    "from sklearn.cluster import AgglomerativeClustering"
   ]
  },
  {
   "cell_type": "code",
   "execution_count": 51,
   "id": "63274e36",
   "metadata": {},
   "outputs": [],
   "source": [
    "from IPython.display import display, HTML\n",
    "from sklearn.tree import _tree, DecisionTreeClassifier\n",
    "from sklearn.ensemble import RandomForestClassifier\n",
    "import pandas as pd\n",
    "\n",
    "\n",
    "def pretty_print(df):\n",
    "    return display( HTML( df.to_html().replace(\"\\\\n\",\"<br>\") ) )\n",
    "\n",
    "def get_class_rules(tree: DecisionTreeClassifier, feature_names: list):\n",
    "    inner_tree: _tree.Tree = tree.tree_\n",
    "    classes = tree.classes_\n",
    "    class_rules_dict = dict()\n",
    "    \n",
    "    \n",
    "    def tree_dfs(node_id=0, current_rule=[]):\n",
    "        split_feature = inner_tree.feature[node_id]\n",
    "        if split_feature != _tree.TREE_UNDEFINED: # internal node\n",
    "            name = feature_names[split_feature]\n",
    "            threshold = inner_tree.threshold[node_id]\n",
    "      # left child\n",
    "            left_rule = current_rule + [\"{} <= {}\".format(name, threshold)]\n",
    "            tree_dfs(inner_tree.children_left[node_id], left_rule)\n",
    "      # right child\n",
    "            right_rule = current_rule + [\"{} > {}\".format(name, threshold)]\n",
    "            tree_dfs(inner_tree.children_right[node_id], right_rule)\n",
    "        else: # leaf\n",
    "            dist = inner_tree.value[node_id][0]\n",
    "            dist = dist/dist.sum()\n",
    "            max_idx = dist.argmax()\n",
    "            if len(current_rule) == 0:\n",
    "                rule_string = \"ALL\"\n",
    "            else:\n",
    "                rule_string = \" and \".join(current_rule)\n",
    "      # register new rule to dictionary\n",
    "            selected_class = classes[max_idx]\n",
    "            class_probability = dist[max_idx]\n",
    "            class_rules = class_rules_dict.get(selected_class, [])\n",
    "            class_rules.append((rule_string, class_probability))\n",
    "            class_rules_dict[selected_class] = class_rules\n",
    "    \n",
    "    tree_dfs() # start from root, node_id = 0\n",
    "    return class_rules_dict\n",
    "\n",
    "def cluster_report(data: pd.DataFrame, clusters, min_samples_leaf=50, pruning_level=0.01):\n",
    "    #tree = DecisionTreeClassifier(min_samples_leaf=min_samples_leaf, ccp_alpha=pruning_level)\n",
    "    tree= RandomForestClassifier(max_depth=17)\n",
    "\n",
    "    tree.fit(data, clusters)\n",
    "    \n",
    "    # Generate Report\n",
    "    feature_names = data.columns\n",
    "    class_rule_dict = get_class_rules(tree, feature_names)\n",
    "\n",
    "    report_class_list = []\n",
    "    for class_name in class_rule_dict.keys():\n",
    "        rule_list = class_rule_dict[class_name]\n",
    "        combined_string = \"\"\n",
    "        for rule in rule_list:\n",
    "            combined_string += \"[{}] {}\\n\\n\".format(rule[1], rule[0])\n",
    "        report_class_list.append((class_name, combined_string))\n",
    "        \n",
    "    cluster_instance_df = pd.Series(clusters).value_counts().reset_index()\n",
    "    cluster_instance_df.columns = ['class_name', 'instance_count']\n",
    "    report_df = pd.DataFrame(report_class_list, columns=['class_name', 'rule_list'])\n",
    "    report_df = pd.merge(cluster_instance_df, report_df, on='class_name', how='left')\n",
    "    print(feature_names)\n",
    "    pretty_print(report_df.sort_values(by='class_name')[['class_name', 'instance_count', 'rule_list']])\n",
    "\n",
    "    \n",
    "#def cluster_report(data: pd.DataFrame, clusters, min_samples_leaf=50, pruning_level=0.01):"
   ]
  },
  {
   "cell_type": "code",
   "execution_count": 3,
   "id": "5fc75759",
   "metadata": {},
   "outputs": [
    {
     "name": "stdout",
     "output_type": "stream",
     "text": [
      "<class 'pandas.core.frame.DataFrame'>\n",
      "RangeIndex: 300 entries, 0 to 299\n",
      "Data columns (total 9 columns):\n",
      " #   Column       Non-Null Count  Dtype\n",
      "---  ------       --------------  -----\n",
      " 0   AGEGROUP     300 non-null    int64\n",
      " 1   ageinmonths  300 non-null    int64\n",
      " 2   PV           300 non-null    int64\n",
      " 3   SR           300 non-null    int64\n",
      " 4   GU           300 non-null    int64\n",
      " 5   REFMNG       300 non-null    int64\n",
      " 6   RELMNG       300 non-null    int64\n",
      " 7   EL           300 non-null    int64\n",
      " 8   TOTAL        300 non-null    int64\n",
      "dtypes: int64(9)\n",
      "memory usage: 21.2 KB\n"
     ]
    }
   ],
   "source": [
    "dataf=pd.read_csv('FULL DATA.csv')\n",
    "\n",
    "dataf.info()"
   ]
  },
  {
   "cell_type": "code",
   "execution_count": 24,
   "id": "5ee79000",
   "metadata": {},
   "outputs": [
    {
     "data": {
      "text/html": [
       "<div>\n",
       "<style scoped>\n",
       "    .dataframe tbody tr th:only-of-type {\n",
       "        vertical-align: middle;\n",
       "    }\n",
       "\n",
       "    .dataframe tbody tr th {\n",
       "        vertical-align: top;\n",
       "    }\n",
       "\n",
       "    .dataframe thead th {\n",
       "        text-align: right;\n",
       "    }\n",
       "</style>\n",
       "<table border=\"1\" class=\"dataframe\">\n",
       "  <thead>\n",
       "    <tr style=\"text-align: right;\">\n",
       "      <th></th>\n",
       "      <th>AGEGROUP</th>\n",
       "      <th>ageinmonths</th>\n",
       "      <th>PV</th>\n",
       "      <th>SR</th>\n",
       "      <th>GU</th>\n",
       "      <th>REFMNG</th>\n",
       "      <th>RELMNG</th>\n",
       "      <th>EL</th>\n",
       "      <th>TOTAL</th>\n",
       "    </tr>\n",
       "  </thead>\n",
       "  <tbody>\n",
       "    <tr>\n",
       "      <th>AGEGROUP</th>\n",
       "      <td>1.000000</td>\n",
       "      <td>0.989484</td>\n",
       "      <td>0.760785</td>\n",
       "      <td>0.744749</td>\n",
       "      <td>0.550699</td>\n",
       "      <td>0.791940</td>\n",
       "      <td>0.818825</td>\n",
       "      <td>0.815002</td>\n",
       "      <td>0.938661</td>\n",
       "    </tr>\n",
       "    <tr>\n",
       "      <th>ageinmonths</th>\n",
       "      <td>0.989484</td>\n",
       "      <td>1.000000</td>\n",
       "      <td>0.770036</td>\n",
       "      <td>0.753923</td>\n",
       "      <td>0.542752</td>\n",
       "      <td>0.799050</td>\n",
       "      <td>0.823412</td>\n",
       "      <td>0.809715</td>\n",
       "      <td>0.942078</td>\n",
       "    </tr>\n",
       "    <tr>\n",
       "      <th>PV</th>\n",
       "      <td>0.760785</td>\n",
       "      <td>0.770036</td>\n",
       "      <td>1.000000</td>\n",
       "      <td>0.647086</td>\n",
       "      <td>0.556428</td>\n",
       "      <td>0.647359</td>\n",
       "      <td>0.594285</td>\n",
       "      <td>0.668376</td>\n",
       "      <td>0.819717</td>\n",
       "    </tr>\n",
       "    <tr>\n",
       "      <th>SR</th>\n",
       "      <td>0.744749</td>\n",
       "      <td>0.753923</td>\n",
       "      <td>0.647086</td>\n",
       "      <td>1.000000</td>\n",
       "      <td>0.394013</td>\n",
       "      <td>0.619371</td>\n",
       "      <td>0.645616</td>\n",
       "      <td>0.650380</td>\n",
       "      <td>0.805296</td>\n",
       "    </tr>\n",
       "    <tr>\n",
       "      <th>GU</th>\n",
       "      <td>0.550699</td>\n",
       "      <td>0.542752</td>\n",
       "      <td>0.556428</td>\n",
       "      <td>0.394013</td>\n",
       "      <td>1.000000</td>\n",
       "      <td>0.356654</td>\n",
       "      <td>0.428535</td>\n",
       "      <td>0.538894</td>\n",
       "      <td>0.613950</td>\n",
       "    </tr>\n",
       "    <tr>\n",
       "      <th>REFMNG</th>\n",
       "      <td>0.791940</td>\n",
       "      <td>0.799050</td>\n",
       "      <td>0.647359</td>\n",
       "      <td>0.619371</td>\n",
       "      <td>0.356654</td>\n",
       "      <td>1.000000</td>\n",
       "      <td>0.693055</td>\n",
       "      <td>0.606768</td>\n",
       "      <td>0.812597</td>\n",
       "    </tr>\n",
       "    <tr>\n",
       "      <th>RELMNG</th>\n",
       "      <td>0.818825</td>\n",
       "      <td>0.823412</td>\n",
       "      <td>0.594285</td>\n",
       "      <td>0.645616</td>\n",
       "      <td>0.428535</td>\n",
       "      <td>0.693055</td>\n",
       "      <td>1.000000</td>\n",
       "      <td>0.680759</td>\n",
       "      <td>0.872470</td>\n",
       "    </tr>\n",
       "    <tr>\n",
       "      <th>EL</th>\n",
       "      <td>0.815002</td>\n",
       "      <td>0.809715</td>\n",
       "      <td>0.668376</td>\n",
       "      <td>0.650380</td>\n",
       "      <td>0.538894</td>\n",
       "      <td>0.606768</td>\n",
       "      <td>0.680759</td>\n",
       "      <td>1.000000</td>\n",
       "      <td>0.871268</td>\n",
       "    </tr>\n",
       "    <tr>\n",
       "      <th>TOTAL</th>\n",
       "      <td>0.938661</td>\n",
       "      <td>0.942078</td>\n",
       "      <td>0.819717</td>\n",
       "      <td>0.805296</td>\n",
       "      <td>0.613950</td>\n",
       "      <td>0.812597</td>\n",
       "      <td>0.872470</td>\n",
       "      <td>0.871268</td>\n",
       "      <td>1.000000</td>\n",
       "    </tr>\n",
       "  </tbody>\n",
       "</table>\n",
       "</div>"
      ],
      "text/plain": [
       "             AGEGROUP  ageinmonths        PV        SR        GU    REFMNG  \\\n",
       "AGEGROUP     1.000000     0.989484  0.760785  0.744749  0.550699  0.791940   \n",
       "ageinmonths  0.989484     1.000000  0.770036  0.753923  0.542752  0.799050   \n",
       "PV           0.760785     0.770036  1.000000  0.647086  0.556428  0.647359   \n",
       "SR           0.744749     0.753923  0.647086  1.000000  0.394013  0.619371   \n",
       "GU           0.550699     0.542752  0.556428  0.394013  1.000000  0.356654   \n",
       "REFMNG       0.791940     0.799050  0.647359  0.619371  0.356654  1.000000   \n",
       "RELMNG       0.818825     0.823412  0.594285  0.645616  0.428535  0.693055   \n",
       "EL           0.815002     0.809715  0.668376  0.650380  0.538894  0.606768   \n",
       "TOTAL        0.938661     0.942078  0.819717  0.805296  0.613950  0.812597   \n",
       "\n",
       "               RELMNG        EL     TOTAL  \n",
       "AGEGROUP     0.818825  0.815002  0.938661  \n",
       "ageinmonths  0.823412  0.809715  0.942078  \n",
       "PV           0.594285  0.668376  0.819717  \n",
       "SR           0.645616  0.650380  0.805296  \n",
       "GU           0.428535  0.538894  0.613950  \n",
       "REFMNG       0.693055  0.606768  0.812597  \n",
       "RELMNG       1.000000  0.680759  0.872470  \n",
       "EL           0.680759  1.000000  0.871268  \n",
       "TOTAL        0.872470  0.871268  1.000000  "
      ]
     },
     "execution_count": 24,
     "metadata": {},
     "output_type": "execute_result"
    }
   ],
   "source": [
    "dataf.corr(method = 'pearson', min_periods = 1)"
   ]
  },
  {
   "cell_type": "code",
   "execution_count": 25,
   "id": "35c26b65",
   "metadata": {},
   "outputs": [
    {
     "data": {
      "text/html": [
       "<div>\n",
       "<style scoped>\n",
       "    .dataframe tbody tr th:only-of-type {\n",
       "        vertical-align: middle;\n",
       "    }\n",
       "\n",
       "    .dataframe tbody tr th {\n",
       "        vertical-align: top;\n",
       "    }\n",
       "\n",
       "    .dataframe thead th {\n",
       "        text-align: right;\n",
       "    }\n",
       "</style>\n",
       "<table border=\"1\" class=\"dataframe\">\n",
       "  <thead>\n",
       "    <tr style=\"text-align: right;\">\n",
       "      <th></th>\n",
       "      <th>AGEGROUP</th>\n",
       "      <th>PV</th>\n",
       "      <th>SR</th>\n",
       "      <th>REFMNG</th>\n",
       "      <th>RELMNG</th>\n",
       "      <th>EL</th>\n",
       "    </tr>\n",
       "  </thead>\n",
       "  <tbody>\n",
       "    <tr>\n",
       "      <th>0</th>\n",
       "      <td>1</td>\n",
       "      <td>24</td>\n",
       "      <td>0</td>\n",
       "      <td>8</td>\n",
       "      <td>4</td>\n",
       "      <td>2</td>\n",
       "    </tr>\n",
       "    <tr>\n",
       "      <th>1</th>\n",
       "      <td>1</td>\n",
       "      <td>19</td>\n",
       "      <td>0</td>\n",
       "      <td>1</td>\n",
       "      <td>4</td>\n",
       "      <td>0</td>\n",
       "    </tr>\n",
       "    <tr>\n",
       "      <th>2</th>\n",
       "      <td>1</td>\n",
       "      <td>22</td>\n",
       "      <td>5</td>\n",
       "      <td>0</td>\n",
       "      <td>2</td>\n",
       "      <td>0</td>\n",
       "    </tr>\n",
       "    <tr>\n",
       "      <th>3</th>\n",
       "      <td>1</td>\n",
       "      <td>16</td>\n",
       "      <td>2</td>\n",
       "      <td>0</td>\n",
       "      <td>0</td>\n",
       "      <td>1</td>\n",
       "    </tr>\n",
       "    <tr>\n",
       "      <th>4</th>\n",
       "      <td>1</td>\n",
       "      <td>19</td>\n",
       "      <td>0</td>\n",
       "      <td>2</td>\n",
       "      <td>0</td>\n",
       "      <td>0</td>\n",
       "    </tr>\n",
       "  </tbody>\n",
       "</table>\n",
       "</div>"
      ],
      "text/plain": [
       "   AGEGROUP  PV  SR  REFMNG  RELMNG  EL\n",
       "0         1  24   0       8       4   2\n",
       "1         1  19   0       1       4   0\n",
       "2         1  22   5       0       2   0\n",
       "3         1  16   2       0       0   1\n",
       "4         1  19   0       2       0   0"
      ]
     },
     "execution_count": 25,
     "metadata": {},
     "output_type": "execute_result"
    }
   ],
   "source": [
    "df=dataf.drop(['ageinmonths','GU','TOTAL'], axis = 1)\n",
    "#df=dataf.drop('TOTAL', axis = 1)\n",
    "df.head()"
   ]
  },
  {
   "cell_type": "code",
   "execution_count": 28,
   "id": "30f99958",
   "metadata": {},
   "outputs": [
    {
     "name": "stdout",
     "output_type": "stream",
     "text": [
      "<class 'pandas.core.frame.DataFrame'>\n",
      "Int64Index: 600 entries, 177 to 81\n",
      "Data columns (total 6 columns):\n",
      " #   Column    Non-Null Count  Dtype\n",
      "---  ------    --------------  -----\n",
      " 0   AGEGROUP  600 non-null    int64\n",
      " 1   PV        600 non-null    int64\n",
      " 2   SR        600 non-null    int64\n",
      " 3   REFMNG    600 non-null    int64\n",
      " 4   RELMNG    600 non-null    int64\n",
      " 5   EL        600 non-null    int64\n",
      "dtypes: int64(6)\n",
      "memory usage: 32.8 KB\n"
     ]
    }
   ],
   "source": [
    "doublelen=int(2*len(df))\n",
    "#doublelen=doublelen+10\n",
    "\n",
    "dfsm = resample(df , n_samples=doublelen)\n",
    "dfsm.info()"
   ]
  },
  {
   "cell_type": "code",
   "execution_count": 30,
   "id": "c08c2195",
   "metadata": {},
   "outputs": [
    {
     "data": {
      "text/plain": [
       "3    104\n",
       "6    104\n",
       "5    103\n",
       "1     99\n",
       "2     99\n",
       "4     91\n",
       "Name: AGEGROUP, dtype: int64"
      ]
     },
     "metadata": {},
     "output_type": "display_data"
    },
    {
     "data": {
      "text/plain": [
       "<AxesSubplot:xlabel='AGEGROUP', ylabel='count'>"
      ]
     },
     "execution_count": 30,
     "metadata": {},
     "output_type": "execute_result"
    },
    {
     "data": {
      "image/png": "[encoded data removed]",
      "text/plain": [
       "<Figure size 576x360 with 1 Axes>"
      ]
     },
     "metadata": {
      "needs_background": "light"
     },
     "output_type": "display_data"
    }
   ],
   "source": [
    "display(dfsm['AGEGROUP'].value_counts().head(30))\n",
    "\n",
    "plt.figure(figsize=(8,5))\n",
    "sns.countplot(x=\"AGEGROUP\",data=dfsm)"
   ]
  },
  {
   "cell_type": "code",
   "execution_count": 31,
   "id": "632eaa97",
   "metadata": {},
   "outputs": [],
   "source": [
    "x=dfsm.iloc[:,1:]\n",
    "y=dfsm.iloc[:,0]"
   ]
  },
  {
   "cell_type": "code",
   "execution_count": 32,
   "id": "db5a61c2",
   "metadata": {},
   "outputs": [],
   "source": [
    "from sklearn.preprocessing import LabelEncoder\n",
    "from sklearn.utils import resample\n",
    "from sklearn.model_selection import train_test_split\n",
    "\n",
    "x_train,x_test,y_train,y_test= train_test_split(x,y,test_size=0.3,random_state=0)"
   ]
  },
  {
   "cell_type": "code",
   "execution_count": 33,
   "id": "f1b9ddd4",
   "metadata": {},
   "outputs": [
    {
     "name": "stdout",
     "output_type": "stream",
     "text": [
      "The prediction accuracy is:43.33%\n"
     ]
    },
    {
     "data": {
      "image/png": "[encoded data removed]",
      "text/plain": [
       "<Figure size 576x360 with 2 Axes>"
      ]
     },
     "metadata": {
      "needs_background": "light"
     },
     "output_type": "display_data"
    }
   ],
   "source": [
    "# Import the DecisionTreeClassifier\n",
    "from sklearn.tree import DecisionTreeClassifier\n",
    "from sklearn.metrics import accuracy_score, confusion_matrix,precision_recall_fscore_support\n",
    "\n",
    "# input the decision tree classifier using \"entropy\" & train the model \n",
    " \n",
    "xtrain=x_train\n",
    "xtest=x_test\n",
    "\n",
    "dtree=DecisionTreeClassifier(criterion='entropy',max_depth=2).fit(xtrain, y_train)\n",
    "\n",
    "# predict the classes of new, unseen data\n",
    "\n",
    "predict=dtree.predict(xtest)\n",
    "\n",
    "print(\"The prediction accuracy is:{0:2.2f}{1:s}\".format(dtree.score(xtest,y_test)*100,\"%\"))\n",
    "\n",
    "# Creates a confusion matrix\n",
    "\n",
    "cm=confusion_matrix(y_test, predict)\n",
    "\n",
    "# Transform to dataframe for easier plotting\n",
    "cm_df=pd.DataFrame(cm) \n",
    "\n",
    "plt.figure(figsize=(8,5))\n",
    "sns.heatmap(cm_df, annot=True,linewidths=1, fmt = 'd')\n",
    "\n",
    "plt.title(\"Decision Tree Accuracy:\"+str(dtree.score(xtest,y_test)*100))\n",
    "plt.ylabel('True label')\n",
    "plt.xlabel('Predicted label')\n",
    "\n",
    "\n",
    "from six import StringIO\n",
    "from IPython.display import Image\n",
    "from sklearn.tree import export_graphviz\n",
    "import pydotplus\n",
    "\n",
    "#dot_data=StringIO()\n",
    "#export_graphviz(dtree, out_file=dot_data,filled=True, rounded=True,special_characters=True)\n",
    "\n",
    "#graph=pydotplus.graph_from_dot_data(dot_data.getvalue())\n",
    "#Image(graph.create_png())"
   ]
  },
  {
   "cell_type": "code",
   "execution_count": 62,
   "id": "53fcae3d",
   "metadata": {},
   "outputs": [
    {
     "data": {
      "text/plain": [
       "Text(0.5, 24.0, 'Predicted label')"
      ]
     },
     "execution_count": 62,
     "metadata": {},
     "output_type": "execute_result"
    },
    {
     "data": {
      "image/png": "[encoded data removed]",
      "text/plain": [
       "<Figure size 576x360 with 2 Axes>"
      ]
     },
     "metadata": {
      "needs_background": "light"
     },
     "output_type": "display_data"
    }
   ],
   "source": [
    "from sklearn.ensemble import RandomForestClassifier\n",
    "\n",
    "#max_depth=6,,min_samples_leaf=2,n_estimators=100\n",
    "crf=RandomForestClassifier(max_depth=17)\n",
    "\n",
    "#Train the model using the training sets y_pred=clf.predict(X_test)\n",
    "crf.fit(x_train,y_train)\n",
    "\n",
    "y_pred=crf.predict(x_test)\n",
    "\n",
    "\n",
    "cmrf=confusion_matrix(y_test, y_pred)\n",
    "\n",
    "# Transform to dataframe for easier plotting\n",
    "cmrf_df=pd.DataFrame(cmrf, index=['1','2','3','4','5','6'],columns=['1','2','3','4','5','6']) \n",
    "\n",
    "\n",
    "\n",
    "plt.figure(figsize=(8,5))\n",
    "sns.heatmap(cmrf_df, annot=True,linewidths=1, fmt = 'd')\n",
    "\n",
    "plt.title(\"Random Forest Accuracy:\"+str(crf.score(x_test,y_test)*100))\n",
    "plt.ylabel('True label')\n",
    "plt.xlabel('Predicted label')\n",
    "\n",
    "\n",
    "\n"
   ]
  },
  {
   "cell_type": "code",
   "execution_count": 63,
   "id": "6b217146",
   "metadata": {},
   "outputs": [
    {
     "name": "stdout",
     "output_type": "stream",
     "text": [
      "Index(['RELMNG', 'EL'], dtype='object')\n"
     ]
    },
    {
     "ename": "AttributeError",
     "evalue": "module 'pandas' has no attribute 'series'",
     "output_type": "error",
     "traceback": [
      "\u001b[1;31m---------------------------------------------------------------------------\u001b[0m",
      "\u001b[1;31mAttributeError\u001b[0m                            Traceback (most recent call last)",
      "\u001b[1;32m<ipython-input-63-e6c377dd5ee5>\u001b[0m in \u001b[0;36m<module>\u001b[1;34m\u001b[0m\n\u001b[0;32m      9\u001b[0m \u001b[1;31m#len(selected_feat)\u001b[0m\u001b[1;33m\u001b[0m\u001b[1;33m\u001b[0m\u001b[1;33m\u001b[0m\u001b[0m\n\u001b[0;32m     10\u001b[0m \u001b[0mprint\u001b[0m\u001b[1;33m(\u001b[0m\u001b[0mselected_feat\u001b[0m\u001b[1;33m)\u001b[0m\u001b[1;33m\u001b[0m\u001b[1;33m\u001b[0m\u001b[0m\n\u001b[1;32m---> 11\u001b[1;33m \u001b[0mpd\u001b[0m\u001b[1;33m.\u001b[0m\u001b[0mseries\u001b[0m\u001b[1;33m(\u001b[0m\u001b[0msel\u001b[0m\u001b[1;33m.\u001b[0m\u001b[0mestimator_\u001b[0m\u001b[1;33m,\u001b[0m\u001b[0mfeature_importances_\u001b[0m\u001b[1;33m,\u001b[0m\u001b[0mravel\u001b[0m\u001b[1;33m(\u001b[0m\u001b[1;33m)\u001b[0m\u001b[1;33m)\u001b[0m\u001b[1;33m.\u001b[0m\u001b[0mhist\u001b[0m\u001b[1;33m(\u001b[0m\u001b[1;33m)\u001b[0m\u001b[1;33m\u001b[0m\u001b[1;33m\u001b[0m\u001b[0m\n\u001b[0m",
      "\u001b[1;32mC:\\Program Files\\Anaconda3\\lib\\site-packages\\pandas\\__init__.py\u001b[0m in \u001b[0;36m__getattr__\u001b[1;34m(name)\u001b[0m\n\u001b[0;32m    242\u001b[0m         \u001b[1;32mreturn\u001b[0m \u001b[0m_SparseArray\u001b[0m\u001b[1;33m\u001b[0m\u001b[1;33m\u001b[0m\u001b[0m\n\u001b[0;32m    243\u001b[0m \u001b[1;33m\u001b[0m\u001b[0m\n\u001b[1;32m--> 244\u001b[1;33m     \u001b[1;32mraise\u001b[0m \u001b[0mAttributeError\u001b[0m\u001b[1;33m(\u001b[0m\u001b[1;34mf\"module 'pandas' has no attribute '{name}'\"\u001b[0m\u001b[1;33m)\u001b[0m\u001b[1;33m\u001b[0m\u001b[1;33m\u001b[0m\u001b[0m\n\u001b[0m\u001b[0;32m    245\u001b[0m \u001b[1;33m\u001b[0m\u001b[0m\n\u001b[0;32m    246\u001b[0m \u001b[1;33m\u001b[0m\u001b[0m\n",
      "\u001b[1;31mAttributeError\u001b[0m: module 'pandas' has no attribute 'series'"
     ]
    }
   ],
   "source": [
    "from sklearn.feature_selection import SelectFromModel\n",
    "\n",
    "sel = SelectFromModel(RandomForestClassifier(n_estimators = 100))\n",
    "sel.fit(x_train, y_train)\n",
    "\n",
    "sel.get_support()\n",
    "\n",
    "selected_feat= x_train.columns[(sel.get_support())]\n",
    "#len(selected_feat)\n",
    "print(selected_feat)\n",
    "pd.series(sel.estimator_,feature_importances_,ravel()).hist()\n"
   ]
  },
  {
   "cell_type": "code",
   "execution_count": 52,
   "id": "0b74822f",
   "metadata": {
    "scrolled": true
   },
   "outputs": [
    {
     "ename": "AttributeError",
     "evalue": "'RandomForestClassifier' object has no attribute 'tree_'",
     "output_type": "error",
     "traceback": [
      "\u001b[1;31m---------------------------------------------------------------------------\u001b[0m",
      "\u001b[1;31mAttributeError\u001b[0m                            Traceback (most recent call last)",
      "\u001b[1;32m<ipython-input-52-3ab30e57fbff>\u001b[0m in \u001b[0;36m<module>\u001b[1;34m\u001b[0m\n\u001b[1;32m----> 1\u001b[1;33m \u001b[0mcluster_report\u001b[0m\u001b[1;33m(\u001b[0m\u001b[0mx_train\u001b[0m\u001b[1;33m,\u001b[0m \u001b[0my_train\u001b[0m\u001b[1;33m,\u001b[0m \u001b[0mmin_samples_leaf\u001b[0m\u001b[1;33m=\u001b[0m\u001b[1;36m50\u001b[0m\u001b[1;33m,\u001b[0m \u001b[0mpruning_level\u001b[0m\u001b[1;33m=\u001b[0m\u001b[1;36m0.01\u001b[0m\u001b[1;33m)\u001b[0m\u001b[1;33m\u001b[0m\u001b[1;33m\u001b[0m\u001b[0m\n\u001b[0m",
      "\u001b[1;32m<ipython-input-51-20af2d7810fc>\u001b[0m in \u001b[0;36mcluster_report\u001b[1;34m(data, clusters, min_samples_leaf, pruning_level)\u001b[0m\n\u001b[0;32m     51\u001b[0m     \u001b[1;31m# Generate Report\u001b[0m\u001b[1;33m\u001b[0m\u001b[1;33m\u001b[0m\u001b[1;33m\u001b[0m\u001b[0m\n\u001b[0;32m     52\u001b[0m     \u001b[0mfeature_names\u001b[0m \u001b[1;33m=\u001b[0m \u001b[0mdata\u001b[0m\u001b[1;33m.\u001b[0m\u001b[0mcolumns\u001b[0m\u001b[1;33m\u001b[0m\u001b[1;33m\u001b[0m\u001b[0m\n\u001b[1;32m---> 53\u001b[1;33m     \u001b[0mclass_rule_dict\u001b[0m \u001b[1;33m=\u001b[0m \u001b[0mget_class_rules\u001b[0m\u001b[1;33m(\u001b[0m\u001b[0mtree\u001b[0m\u001b[1;33m,\u001b[0m \u001b[0mfeature_names\u001b[0m\u001b[1;33m)\u001b[0m\u001b[1;33m\u001b[0m\u001b[1;33m\u001b[0m\u001b[0m\n\u001b[0m\u001b[0;32m     54\u001b[0m \u001b[1;33m\u001b[0m\u001b[0m\n\u001b[0;32m     55\u001b[0m     \u001b[0mreport_class_list\u001b[0m \u001b[1;33m=\u001b[0m \u001b[1;33m[\u001b[0m\u001b[1;33m]\u001b[0m\u001b[1;33m\u001b[0m\u001b[1;33m\u001b[0m\u001b[0m\n",
      "\u001b[1;32m<ipython-input-51-20af2d7810fc>\u001b[0m in \u001b[0;36mget_class_rules\u001b[1;34m(tree, feature_names)\u001b[0m\n\u001b[0;32m      9\u001b[0m \u001b[1;33m\u001b[0m\u001b[0m\n\u001b[0;32m     10\u001b[0m \u001b[1;32mdef\u001b[0m \u001b[0mget_class_rules\u001b[0m\u001b[1;33m(\u001b[0m\u001b[0mtree\u001b[0m\u001b[1;33m:\u001b[0m \u001b[0mDecisionTreeClassifier\u001b[0m\u001b[1;33m,\u001b[0m \u001b[0mfeature_names\u001b[0m\u001b[1;33m:\u001b[0m \u001b[0mlist\u001b[0m\u001b[1;33m)\u001b[0m\u001b[1;33m:\u001b[0m\u001b[1;33m\u001b[0m\u001b[1;33m\u001b[0m\u001b[0m\n\u001b[1;32m---> 11\u001b[1;33m     \u001b[0minner_tree\u001b[0m\u001b[1;33m:\u001b[0m \u001b[0m_tree\u001b[0m\u001b[1;33m.\u001b[0m\u001b[0mTree\u001b[0m \u001b[1;33m=\u001b[0m \u001b[0mtree\u001b[0m\u001b[1;33m.\u001b[0m\u001b[0mtree_\u001b[0m\u001b[1;33m\u001b[0m\u001b[1;33m\u001b[0m\u001b[0m\n\u001b[0m\u001b[0;32m     12\u001b[0m     \u001b[0mclasses\u001b[0m \u001b[1;33m=\u001b[0m \u001b[0mtree\u001b[0m\u001b[1;33m.\u001b[0m\u001b[0mclasses_\u001b[0m\u001b[1;33m\u001b[0m\u001b[1;33m\u001b[0m\u001b[0m\n\u001b[0;32m     13\u001b[0m     \u001b[0mclass_rules_dict\u001b[0m \u001b[1;33m=\u001b[0m \u001b[0mdict\u001b[0m\u001b[1;33m(\u001b[0m\u001b[1;33m)\u001b[0m\u001b[1;33m\u001b[0m\u001b[1;33m\u001b[0m\u001b[0m\n",
      "\u001b[1;31mAttributeError\u001b[0m: 'RandomForestClassifier' object has no attribute 'tree_'"
     ]
    }
   ],
   "source": [
    "cluster_report(x_train, y_train, min_samples_leaf=50, pruning_level=0.01)"
   ]
  },
  {
   "cell_type": "code",
   "execution_count": 44,
   "id": "4cbb051e",
   "metadata": {},
   "outputs": [
    {
     "name": "stdout",
     "output_type": "stream",
     "text": [
      "              precision    recall  f1-score   support\n",
      "\n",
      "           1       0.76      0.79      0.78        33\n",
      "           2       0.45      0.54      0.49        24\n",
      "           3       0.63      0.63      0.63        35\n",
      "           4       0.53      0.52      0.52        31\n",
      "           5       0.52      0.38      0.44        29\n",
      "           6       0.81      0.89      0.85        28\n",
      "\n",
      "    accuracy                           0.63       180\n",
      "   macro avg       0.62      0.62      0.62       180\n",
      "weighted avg       0.62      0.63      0.62       180\n",
      "\n",
      "[[26  5  2  0  0  0]\n",
      " [ 8 13  2  1  0  0]\n",
      " [ 0 11 22  2  0  0]\n",
      " [ 0  0  8 16  7  0]\n",
      " [ 0  0  1 11 11  6]\n",
      " [ 0  0  0  0  3 25]]\n"
     ]
    },
    {
     "data": {
      "text/plain": [
       "Text(0.5, 24.0, 'Predicted label')"
      ]
     },
     "execution_count": 44,
     "metadata": {},
     "output_type": "execute_result"
    },
    {
     "data": {
      "image/png": "[encoded data removed]",
      "text/plain": [
       "<Figure size 720x360 with 2 Axes>"
      ]
     },
     "metadata": {
      "needs_background": "light"
     },
     "output_type": "display_data"
    }
   ],
   "source": [
    "from sklearn.naive_bayes import GaussianNB, BernoulliNB, MultinomialNB, ComplementNB\n",
    "from sklearn.metrics import classification_report\n",
    "\n",
    "gnb=GaussianNB()\n",
    "gnb.fit(x_train,y_train)\n",
    "\n",
    "by_predict=gnb.predict(x_test)\n",
    "\n",
    "\n",
    "cmnb = confusion_matrix(y_test, by_predict)\n",
    "print(classification_report(y_test, by_predict))\n",
    "print(cmnb)\n",
    "# Transform to dataframe for easier plotting \n",
    "cmnb_df = pd.DataFrame(cmnb)\n",
    "\n",
    "plt.figure(figsize=(10,5)) \n",
    "sns.heatmap(cmnb_df, annot=True, fmt='g') \n",
    "plt.title(\"Naive Bayes Confusion Matrix\") \n",
    "plt.ylabel('True label') \n",
    "plt.xlabel('Predicted label')"
   ]
  },
  {
   "cell_type": "code",
   "execution_count": 45,
   "id": "4c414619",
   "metadata": {},
   "outputs": [
    {
     "name": "stdout",
     "output_type": "stream",
     "text": [
      "              precision    recall  f1-score   support\n",
      "\n",
      "           1       0.00      0.00      0.00        33\n",
      "           2       0.22      0.96      0.36        24\n",
      "           3       0.67      0.11      0.20        35\n",
      "           4       0.25      0.03      0.06        31\n",
      "           5       0.00      0.00      0.00        29\n",
      "           6       0.44      1.00      0.62        28\n",
      "\n",
      "    accuracy                           0.31       180\n",
      "   macro avg       0.26      0.35      0.20       180\n",
      "weighted avg       0.27      0.31      0.19       180\n",
      "\n"
     ]
    },
    {
     "name": "stderr",
     "output_type": "stream",
     "text": [
      "C:\\Program Files\\Anaconda3\\lib\\site-packages\\sklearn\\metrics\\_classification.py:1308: UndefinedMetricWarning: Precision and F-score are ill-defined and being set to 0.0 in labels with no predicted samples. Use `zero_division` parameter to control this behavior.\n",
      "  _warn_prf(average, modifier, msg_start, len(result))\n",
      "C:\\Program Files\\Anaconda3\\lib\\site-packages\\sklearn\\metrics\\_classification.py:1308: UndefinedMetricWarning: Precision and F-score are ill-defined and being set to 0.0 in labels with no predicted samples. Use `zero_division` parameter to control this behavior.\n",
      "  _warn_prf(average, modifier, msg_start, len(result))\n",
      "C:\\Program Files\\Anaconda3\\lib\\site-packages\\sklearn\\metrics\\_classification.py:1308: UndefinedMetricWarning: Precision and F-score are ill-defined and being set to 0.0 in labels with no predicted samples. Use `zero_division` parameter to control this behavior.\n",
      "  _warn_prf(average, modifier, msg_start, len(result))\n"
     ]
    },
    {
     "data": {
      "text/plain": [
       "Text(0.5, 24.0, 'Predicted label')"
      ]
     },
     "execution_count": 45,
     "metadata": {},
     "output_type": "execute_result"
    },
    {
     "data": {
      "image/png": "[encoded data removed]",
      "text/plain": [
       "<Figure size 720x360 with 2 Axes>"
      ]
     },
     "metadata": {
      "needs_background": "light"
     },
     "output_type": "display_data"
    }
   ],
   "source": [
    "cnb=ComplementNB()\n",
    "cnb.fit(x_train,y_train)\n",
    "\n",
    "cnb_predict=cnb.predict(x_test)\n",
    "\n",
    "\n",
    "cmcnb = confusion_matrix(y_test, cnb_predict)\n",
    "print(classification_report(y_test, cnb_predict))\n",
    "\n",
    "# Transform to dataframe for easier plotting \n",
    "\n",
    "plt.figure(figsize=(10,5)) \n",
    "sns.heatmap(cmcnb, annot=True, fmt='g') \n",
    "plt.title(\"Naive Bayes Confusion Matrix\") \n",
    "plt.ylabel('True label') \n",
    "plt.xlabel('Predicted label')"
   ]
  },
  {
   "cell_type": "code",
   "execution_count": 46,
   "id": "6393eb2c",
   "metadata": {},
   "outputs": [
    {
     "name": "stdout",
     "output_type": "stream",
     "text": [
      "              precision    recall  f1-score   support\n",
      "\n",
      "           1       0.72      0.70      0.71        33\n",
      "           2       0.31      0.33      0.32        24\n",
      "           3       0.45      0.63      0.52        35\n",
      "           4       0.33      0.23      0.27        31\n",
      "           5       0.29      0.21      0.24        29\n",
      "           6       0.52      0.57      0.54        28\n",
      "\n",
      "    accuracy                           0.46       180\n",
      "   macro avg       0.44      0.44      0.43       180\n",
      "weighted avg       0.44      0.46      0.44       180\n",
      "\n"
     ]
    },
    {
     "data": {
      "text/plain": [
       "Text(0.5, 24.0, 'Predicted label')"
      ]
     },
     "execution_count": 46,
     "metadata": {},
     "output_type": "execute_result"
    },
    {
     "data": {
      "image/png": "[encoded data removed]",
      "text/plain": [
       "<Figure size 720x360 with 2 Axes>"
      ]
     },
     "metadata": {
      "needs_background": "light"
     },
     "output_type": "display_data"
    }
   ],
   "source": [
    "mnb=MultinomialNB()\n",
    "mnb.fit(x_train,y_train)\n",
    "\n",
    "mnb_predict=mnb.predict(x_test)\n",
    "\n",
    "\n",
    "cmmnb = confusion_matrix(y_test, mnb_predict)\n",
    "print(classification_report(y_test, mnb_predict))\n",
    "\n",
    "# Transform to dataframe for easier plotting \n",
    "\n",
    "plt.figure(figsize=(10,5)) \n",
    "sns.heatmap(cmmnb, annot=True, fmt='g') \n",
    "plt.title(\"Naive Bayes Confusion Matrix\") \n",
    "plt.ylabel('True label') \n",
    "plt.xlabel('Predicted label')"
   ]
  },
  {
   "cell_type": "code",
   "execution_count": 47,
   "id": "a4df0bd8",
   "metadata": {},
   "outputs": [
    {
     "data": {
      "image/png": "[encoded data removed]",
      "text/plain": [
       "<Figure size 1080x360 with 1 Axes>"
      ]
     },
     "metadata": {
      "needs_background": "light"
     },
     "output_type": "display_data"
    },
    {
     "name": "stdout",
     "output_type": "stream",
     "text": [
      "86.66666666666667\n",
      "0\n"
     ]
    }
   ],
   "source": [
    "from sklearn.neighbors import KNeighborsClassifier\n",
    "from sklearn import metrics\n",
    "\n",
    "scores=[]\n",
    "# We try different values of k for the KNN (from k=1 up to k=26)\n",
    "lrange=list(range(1,200))\n",
    "# loop the KNN process\n",
    "for k in lrange:\n",
    "    # input the k value and 'distance' measure\n",
    "    knn=KNeighborsClassifier(n_neighbors=k)\n",
    "    # input the train data to train KNN\n",
    "    knn.fit(x_train,y_train)\n",
    "    # see KNN prediction by inputting the test data\n",
    "    y_pred=knn.predict(x_test)\n",
    "    # append the performance metric (accuracy)\n",
    "    scores.append(metrics.accuracy_score(y_test,y_pred))\n",
    "\n",
    "    \n",
    "\n",
    "plt.figure(2,figsize=(15,5))\n",
    "# plot the results\n",
    "plt.plot(lrange, scores,ls='dashed')\n",
    "plt.xlabel('Value of k for KNN')\n",
    "plt.ylabel('Accuracy Score')\n",
    "plt.title('Accuracy Scores for Values of k of k-Nearest-Neighbors')\n",
    "plt.show()\n",
    "\n",
    "maxscoreknn=max(scores)\n",
    "print(maxscoreknn*100)\n",
    "print(scores.index(maxscoreknn))"
   ]
  },
  {
   "cell_type": "code",
   "execution_count": 48,
   "id": "58e81cc7",
   "metadata": {},
   "outputs": [
    {
     "name": "stdout",
     "output_type": "stream",
     "text": [
      "              precision    recall  f1-score   support\n",
      "\n",
      "           1       0.76      0.58      0.66        33\n",
      "           2       0.33      0.42      0.37        24\n",
      "           3       0.56      0.69      0.62        35\n",
      "           4       0.59      0.55      0.57        31\n",
      "           5       0.55      0.38      0.45        29\n",
      "           6       0.73      0.86      0.79        28\n",
      "\n",
      "    accuracy                           0.58       180\n",
      "   macro avg       0.59      0.58      0.57       180\n",
      "weighted avg       0.60      0.58      0.58       180\n",
      "\n"
     ]
    },
    {
     "name": "stderr",
     "output_type": "stream",
     "text": [
      "C:\\Program Files\\Anaconda3\\lib\\site-packages\\sklearn\\linear_model\\_logistic.py:814: ConvergenceWarning: lbfgs failed to converge (status=1):\n",
      "STOP: TOTAL NO. of ITERATIONS REACHED LIMIT.\n",
      "\n",
      "Increase the number of iterations (max_iter) or scale the data as shown in:\n",
      "    https://scikit-learn.org/stable/modules/preprocessing.html\n",
      "Please also refer to the documentation for alternative solver options:\n",
      "    https://scikit-learn.org/stable/modules/linear_model.html#logistic-regression\n",
      "  n_iter_i = _check_optimize_result(\n"
     ]
    },
    {
     "data": {
      "text/plain": [
       "Text(0.5, 24.0, 'Predicted label')"
      ]
     },
     "execution_count": 48,
     "metadata": {},
     "output_type": "execute_result"
    },
    {
     "data": {
      "text/plain": [
       "<Figure size 720x360 with 0 Axes>"
      ]
     },
     "metadata": {},
     "output_type": "display_data"
    },
    {
     "data": {
      "image/png": "[encoded data removed]",
      "text/plain": [
       "<Figure size 720x360 with 2 Axes>"
      ]
     },
     "metadata": {
      "needs_background": "light"
     },
     "output_type": "display_data"
    }
   ],
   "source": [
    "from sklearn.linear_model import LogisticRegression\n",
    "\n",
    "logreg = LogisticRegression()\n",
    "\n",
    "# fit the model with data\n",
    "logreg.fit(x_train,y_train)\n",
    "\n",
    "#\n",
    "ylg_pred=logreg.predict(x_test)\n",
    "\n",
    "cmlg = confusion_matrix(y_test, ylg_pred)\n",
    "print(classification_report(y_test, ylg_pred))\n",
    "\n",
    "plt.figure(figsize=(10,5))\n",
    "\n",
    "plt.figure(figsize=(10,5)) \n",
    "sns.heatmap(cmlg, annot=True, fmt='g') \n",
    "plt.title(\"Logistic\") \n",
    "plt.ylabel('True label') \n",
    "plt.xlabel('Predicted label')"
   ]
  },
  {
   "cell_type": "code",
   "execution_count": null,
   "id": "c5f38524",
   "metadata": {},
   "outputs": [],
   "source": []
  }
 ],
 "metadata": {
  "kernelspec": {
   "display_name": "Python 3",
   "language": "python",
   "name": "python3"
  },
  "language_info": {
   "codemirror_mode": {
    "name": "ipython",
    "version": 3
   },
   "file_extension": ".py",
   "mimetype": "text/x-python",
   "name": "python",
   "nbconvert_exporter": "python",
   "pygments_lexer": "ipython3",
   "version": "3.8.8"
  }
 },
 "nbformat": 4,
 "nbformat_minor": 5
}
